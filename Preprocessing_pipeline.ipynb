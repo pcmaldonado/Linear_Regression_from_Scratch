{
 "cells": [
  {
   "cell_type": "markdown",
   "id": "f2cc120d",
   "metadata": {},
   "source": [
    "# Import libraries"
   ]
  },
  {
   "cell_type": "code",
   "execution_count": 1,
   "id": "8a61ad97",
   "metadata": {},
   "outputs": [],
   "source": [
    "import numpy as np \n",
    "import pandas as pd\n",
    "\n",
    "from sklearn.model_selection import train_test_split\n",
    "\n",
    "pd.set_option('display.max_columns', None)\n",
    "pd.options.display.float_format = '{:.2f}'.format\n",
    "\n",
    "# To use datetime\n",
    "from datetime import datetime\n",
    "\n",
    "# For clustering location\n",
    "from sklearn.cluster import KMeans"
   ]
  },
  {
   "cell_type": "markdown",
   "id": "bbb54248",
   "metadata": {},
   "source": [
    "# Load data"
   ]
  },
  {
   "cell_type": "code",
   "execution_count": 2,
   "id": "719b36e7",
   "metadata": {},
   "outputs": [],
   "source": [
    "raw_data = pd.read_csv('kc_house_data.csv', \n",
    "                       dtype = {'price': int})\n",
    "data = raw_data.copy()\n",
    "data.date = pd.to_datetime(raw_data.date)"
   ]
  },
  {
   "cell_type": "code",
   "execution_count": 3,
   "id": "1bf41d83",
   "metadata": {},
   "outputs": [],
   "source": [
    "train_set, test_set = train_test_split(data, test_size = 0.15, random_state = 42)"
   ]
  },
  {
   "cell_type": "markdown",
   "id": "e151fc50",
   "metadata": {},
   "source": [
    "# Functions"
   ]
  },
  {
   "cell_type": "code",
   "execution_count": 4,
   "id": "595e713d",
   "metadata": {},
   "outputs": [],
   "source": [
    "def dummy_date(df):\n",
    "    # reset index in case needed\n",
    "    df_dummied = df.reset_index(drop = True)\n",
    "\n",
    "    # setting datetime split\n",
    "    split_date = datetime(2014,10,16)\n",
    "    \n",
    "    # creating new column\n",
    "    df_dummied.loc[:, 'recent_sells'] = 0\n",
    "    \n",
    "        \n",
    "    for i in range(len(df_dummied)):\n",
    "        if df_dummied.loc[i, 'date'] > split_date:\n",
    "            df_dummied.loc[i, 'recent_sells'] = 1\n",
    "    \n",
    "    df_dummied.drop(['date'], axis = 1, inplace = True)\n",
    "    \n",
    "    print('Date function was applied:')\n",
    "    print('--> It dummified old feature \"date\" and created new feature \"recent_sells\"\\n')\n",
    "    \n",
    "    \n",
    "    return df_dummied"
   ]
  },
  {
   "cell_type": "code",
   "execution_count": 5,
   "id": "cb9407bc",
   "metadata": {},
   "outputs": [],
   "source": [
    "# To remove clear outliers & dummify variable\n",
    "def clean_bedrooms(df):\n",
    "    df.reset_index(inplace = True, drop = True)\n",
    "    bed_clear_outliers = df[(df['bedrooms'] > 10) | (df['bedrooms']  == 0)]\n",
    "    \n",
    "    df_cleaned = df.drop(bed_clear_outliers.index)\n",
    "    df_cleaned.reset_index(inplace = True, drop = True)\n",
    "    \n",
    "    df_cleaned.loc[:, 'beds_4more'] = 0\n",
    "    \n",
    "    for i in range(len(df_cleaned)):\n",
    "        if df_cleaned.loc[i, 'bedrooms'] > 3:\n",
    "            df_cleaned.loc[i, 'beds_4more'] = 1 # Houses with 1 to 3 bedrooms become the reference\n",
    "    \n",
    "    df_cleaned.drop(['bedrooms'], axis = 1, inplace = True)\n",
    "    \n",
    "    print('Bedroom function was applied:')\n",
    "    print(f'--> {len(bed_clear_outliers)} outliers were removed')\n",
    "    print('--> It dummified old feature \"bedrooms\" and created new feature \"beds_4more\"\\n')\n",
    "    \n",
    "    \n",
    "    return df_cleaned"
   ]
  },
  {
   "cell_type": "code",
   "execution_count": 6,
   "id": "22b48dd9",
   "metadata": {},
   "outputs": [],
   "source": [
    "def clear_basement(df):\n",
    "    df.reset_index(inplace = True, drop = True)\n",
    "    \n",
    "    df['has_basement'] = 0\n",
    "    \n",
    "    for i in range(len(df)):\n",
    "        if df.loc[i, 'sqft_basement'] > 0:\n",
    "            df.loc[i, 'has_basement'] = 1\n",
    "    \n",
    "    df_cleaned = df.drop(['sqft_basement'], axis = 1)\n",
    "    \n",
    "    print('Basement function was applied:')\n",
    "    print(f'--> \"sqft_basement\" feature was dummified into \"has_basement\"\\n')\n",
    "    \n",
    "    return df_cleaned"
   ]
  },
  {
   "cell_type": "code",
   "execution_count": 7,
   "id": "45377a4f",
   "metadata": {},
   "outputs": [],
   "source": [
    "# Remove all features having less than 10% of positive values\n",
    "\n",
    "def remove_highly_imbalanced_features(df):\n",
    "    to_drop = []\n",
    "    for column in df.columns:\n",
    "        if len(df[df[column] > 0]) > 0:\n",
    "            if len(df[df[column] > 0])/len(df) < 0.1:\n",
    "                to_drop.append(column)\n",
    "            \n",
    "    df_removed = df.drop(to_drop, axis = 1)\n",
    "    \n",
    "    print('Remove imbalance features function was applied:')\n",
    "    print(f'--> The following features were dropped: {to_drop}\\n')\n",
    "\n",
    "    return df_removed"
   ]
  },
  {
   "cell_type": "code",
   "execution_count": 8,
   "id": "d76b17f6",
   "metadata": {},
   "outputs": [],
   "source": [
    "class Outliers():\n",
    "    def __init__(self):\n",
    "        return None\n",
    "    \n",
    "    def find(self, df, att):\n",
    "        self.df_ = df\n",
    "        \n",
    "        q1, q3 = df[att].quantile([0.25,0.75])\n",
    "        iqr = q3 - q1\n",
    "        cst = iqr*1.5\n",
    "        \n",
    "        # Rule:\n",
    "        high_out = q3 + cst\n",
    "        low_out = q1 - cst\n",
    "        \n",
    "        # Outliers:\n",
    "        self.df_remove = df[(df[att] > high_out)|(df[att] < low_out)]\n",
    "        \n",
    "        count_out = len(self.df_remove)\n",
    "        ratio_out = len(self.df_remove)/len(df)\n",
    "\n",
    "        if count_out > 0:\n",
    "            print('There are {} outliers found for the attribute {}.\\n-->This represent {:.2%} of the entire set\\n'.format(count_out, att, ratio_out))\n",
    "        \n",
    "      \n",
    "    def show(self):\n",
    "        return self.df_remove\n",
    "                \n",
    "    def remove(self):\n",
    "        return self.df_.drop(self.df_remove.index)\n",
    "    \n",
    "    def find_remove(self, df, att):\n",
    "        self.df_ = df\n",
    "        \n",
    "        q1, q3 = df[att].quantile([0.25,0.75])\n",
    "        iqr = q3 - q1\n",
    "        cst = iqr*1.5\n",
    "        \n",
    "        # Rule:\n",
    "        high_out = q3 + cst\n",
    "        low_out = q1 - cst\n",
    "        \n",
    "        # Outliers:\n",
    "        self.df_remove = df[(df[att] > high_out)|(df[att] < low_out)]\n",
    "        \n",
    "        return df.drop(self.df_remove.index)"
   ]
  },
  {
   "cell_type": "code",
   "execution_count": 9,
   "id": "1aa6c1e7",
   "metadata": {},
   "outputs": [],
   "source": [
    "outliers = Outliers() "
   ]
  },
  {
   "cell_type": "code",
   "execution_count": 10,
   "id": "880adc8a",
   "metadata": {},
   "outputs": [],
   "source": [
    "def remove_all_outliers(df):\n",
    "    df_org = len(df)\n",
    "    \n",
    "    att_to_remove = []\n",
    "    for attribute in df.columns:\n",
    "        if len(outliers.find_remove(df, attribute)) < len(df):\n",
    "            if (attribute != 'lat') and (attribute != 'long'):\n",
    "                att_to_remove.append(attribute)\n",
    "\n",
    "    for att in att_to_remove:\n",
    "        df = outliers.find_remove(df, att)\n",
    "    \n",
    "    df_rem = df.reset_index(drop = True)\n",
    "    \n",
    "    count_out = df_org - len(df)\n",
    "    \n",
    "    print('Remove all outliers function was applied:')\n",
    "    print(f'--> {count_out} outliers were removed\\n')\n",
    "    \n",
    "    return df_rem"
   ]
  },
  {
   "cell_type": "code",
   "execution_count": 11,
   "id": "65a729a3",
   "metadata": {},
   "outputs": [],
   "source": [
    "def cluster_long_lat(df):\n",
    "    X_lat_long = df[['lat','long']].values\n",
    "    kmeans = KMeans(n_clusters = 3, init = 'k-means++', random_state = 42)\n",
    "    y_kmeans = kmeans.fit_predict(X_lat_long)\n",
    "    \n",
    "    df['loc_north_west'] = 0\n",
    "    df['loc_north_east'] = 0\n",
    "    \n",
    "    for i in range(len(df)):\n",
    "        if y_kmeans[i] == 2:\n",
    "            df.loc[i, 'loc_north_west'] = 1\n",
    "        elif y_kmeans[i] == 0:\n",
    "            df.loc[i, 'loc_north_east'] = 1\n",
    "            \n",
    "    df_clustered = df.drop(['lat','long', 'zipcode'], axis = 1)\n",
    "    \n",
    "    print('Kmeans cluster was applied to long & lat features:')\n",
    "    print('--> Zipcode, lat, and long features were dropped and two new one-hot encoded features were created\\n')\n",
    "    \n",
    "    return df_clustered"
   ]
  },
  {
   "cell_type": "markdown",
   "id": "648dc0ab",
   "metadata": {},
   "source": [
    "# Preprocessing pipeline"
   ]
  },
  {
   "cell_type": "code",
   "execution_count": 12,
   "id": "1f837d96",
   "metadata": {},
   "outputs": [],
   "source": [
    "def preprocessing_pipeline(df, d_date = True, bed = True, loc = True, \n",
    "                           basement = True, remove_imba = True, remove_out = True):\n",
    "    \n",
    "    function_list = [dummy_date, clean_bedrooms, clear_basement,\n",
    "                     remove_highly_imbalanced_features, remove_all_outliers, cluster_long_lat]\n",
    "    \n",
    "    activated_functions = [d_date, bed, basement, remove_imba, remove_out, loc]\n",
    "   \n",
    "    \n",
    "    i_to_remove = []\n",
    "    for i in range(len(activated_functions)):\n",
    "        if activated_functions[i] == False:\n",
    "            i_to_remove.append(i)\n",
    "            \n",
    "    \n",
    "    for index in sorted(i_to_remove, reverse = True): #delete in reverse order so you don't throw off the subsequent indexes.\n",
    "        del activated_functions[index] \n",
    "        del function_list[index]\n",
    "\n",
    "\n",
    "    for func in function_list:\n",
    "        df = func(df)\n",
    "    \n",
    "    df1 = df.drop_duplicates('id', keep='last')\n",
    "    print(f'{len(df)-len(df1)} duplicates were removed')\n",
    "    \n",
    "    return df1"
   ]
  },
  {
   "cell_type": "markdown",
   "id": "c5bdc870",
   "metadata": {},
   "source": [
    "# Results"
   ]
  },
  {
   "cell_type": "code",
   "execution_count": 13,
   "id": "4605fb27",
   "metadata": {},
   "outputs": [
    {
     "name": "stdout",
     "output_type": "stream",
     "text": [
      "Date function was applied:\n",
      "--> It dummified old feature \"date\" and created new feature \"recent_sells\"\n",
      "\n",
      "Bedroom function was applied:\n",
      "--> 10 outliers were removed\n",
      "--> It dummified old feature \"bedrooms\" and created new feature \"beds_4more\"\n",
      "\n",
      "Basement function was applied:\n",
      "--> \"sqft_basement\" feature was dummified into \"has_basement\"\n",
      "\n",
      "Kmeans cluster was applied to long & lat features:\n",
      "--> Zipcode, lat, and long features were dropped and two new one-hot encoded features were created\n",
      "\n",
      "128 duplicates were removed\n"
     ]
    },
    {
     "data": {
      "text/plain": [
       "(18233, 20)"
      ]
     },
     "execution_count": 13,
     "metadata": {},
     "output_type": "execute_result"
    }
   ],
   "source": [
    "train_set_preprocesed = preprocessing_pipeline(train_set, d_date = True,\n",
    "                                               bed = True, \n",
    "                                               loc = True, \n",
    "                                               basement = True, \n",
    "                                               remove_imba = False, \n",
    "                                               remove_out = False)\n",
    "train_set_preprocesed.shape"
   ]
  },
  {
   "cell_type": "code",
   "execution_count": 14,
   "id": "e06477b7",
   "metadata": {},
   "outputs": [
    {
     "name": "stdout",
     "output_type": "stream",
     "text": [
      "Date function was applied:\n",
      "--> It dummified old feature \"date\" and created new feature \"recent_sells\"\n",
      "\n",
      "Bedroom function was applied:\n",
      "--> 5 outliers were removed\n",
      "--> It dummified old feature \"bedrooms\" and created new feature \"beds_4more\"\n",
      "\n",
      "Basement function was applied:\n",
      "--> \"sqft_basement\" feature was dummified into \"has_basement\"\n",
      "\n",
      "Kmeans cluster was applied to long & lat features:\n",
      "--> Zipcode, lat, and long features were dropped and two new one-hot encoded features were created\n",
      "\n",
      "4 duplicates were removed\n"
     ]
    },
    {
     "data": {
      "text/plain": [
       "(3233, 20)"
      ]
     },
     "execution_count": 14,
     "metadata": {},
     "output_type": "execute_result"
    }
   ],
   "source": [
    "test_set_preprocesed = preprocessing_pipeline(test_set, d_date = True,\n",
    "                                               bed = True, \n",
    "                                               loc = True, \n",
    "                                               basement = True, \n",
    "                                               remove_imba = False, \n",
    "                                               remove_out = False)\n",
    "test_set_preprocesed.shape"
   ]
  },
  {
   "cell_type": "markdown",
   "id": "7b4c052b",
   "metadata": {},
   "source": [
    "# Export data"
   ]
  },
  {
   "cell_type": "code",
   "execution_count": 15,
   "id": "20359f08",
   "metadata": {},
   "outputs": [],
   "source": [
    "train_set_preprocesed.to_csv('train_data_preprocessed_with_outliers_and_imba.csv', index = False)\n",
    "test_set_preprocesed.to_csv('test_set_preprocesed_with_outliers_and_imba.csv', index = False)"
   ]
  }
 ],
 "metadata": {
  "kernelspec": {
   "display_name": "Python 3",
   "language": "python",
   "name": "python3"
  },
  "language_info": {
   "codemirror_mode": {
    "name": "ipython",
    "version": 3
   },
   "file_extension": ".py",
   "mimetype": "text/x-python",
   "name": "python",
   "nbconvert_exporter": "python",
   "pygments_lexer": "ipython3",
   "version": "3.8.10"
  }
 },
 "nbformat": 4,
 "nbformat_minor": 5
}
